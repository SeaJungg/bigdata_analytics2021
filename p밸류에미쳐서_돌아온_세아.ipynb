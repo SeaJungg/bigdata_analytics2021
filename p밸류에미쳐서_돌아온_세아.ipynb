{
  "nbformat": 4,
  "nbformat_minor": 0,
  "metadata": {
    "colab": {
      "name": "p밸류에미쳐서 돌아온 세아",
      "provenance": [],
      "authorship_tag": "ABX9TyNdkbHvk7fTcB2hm8JNMKTH",
      "include_colab_link": true
    },
    "kernelspec": {
      "name": "python3",
      "display_name": "Python 3"
    },
    "language_info": {
      "name": "python"
    }
  },
  "cells": [
    {
      "cell_type": "markdown",
      "metadata": {
        "id": "view-in-github",
        "colab_type": "text"
      },
      "source": [
        "<a href=\"https://colab.research.google.com/github/SeaJungg/bigdata_analytics2021/blob/master/p%EB%B0%B8%EB%A5%98%EC%97%90%EB%AF%B8%EC%B3%90%EC%84%9C_%EB%8F%8C%EC%95%84%EC%98%A8_%EC%84%B8%EC%95%84.ipynb\" target=\"_parent\"><img src=\"https://colab.research.google.com/assets/colab-badge.svg\" alt=\"Open In Colab\"/></a>"
      ]
    },
    {
      "cell_type": "code",
      "metadata": {
        "id": "4TtgLNacKVpa"
      },
      "source": [
        "import pandas as pd\n",
        "from google.colab import files \n"
      ],
      "execution_count": null,
      "outputs": []
    },
    {
      "cell_type": "code",
      "metadata": {
        "colab": {
          "resources": {
            "http://localhost:8080/nbextensions/google.colab/files.js": {
              "data": "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",
              "ok": true,
              "headers": [
                [
                  "content-type",
                  "application/javascript"
                ]
              ],
              "status": 200,
              "status_text": ""
            }
          },
          "base_uri": "https://localhost:8080/",
          "height": 133
        },
        "id": "CKY6AXStKaJP",
        "outputId": "245d8d90-1874-403f-ba53-160ddf69f50e"
      },
      "source": [
        "uploaded = files.upload()\n",
        "uploaded2 = files.upload()"
      ],
      "execution_count": null,
      "outputs": [
        {
          "output_type": "display_data",
          "data": {
            "text/html": [
              "\n",
              "     <input type=\"file\" id=\"files-a1828899-b6b6-41be-9ac6-aec948e4f8cd\" name=\"files[]\" multiple disabled\n",
              "        style=\"border:none\" />\n",
              "     <output id=\"result-a1828899-b6b6-41be-9ac6-aec948e4f8cd\">\n",
              "      Upload widget is only available when the cell has been executed in the\n",
              "      current browser session. Please rerun this cell to enable.\n",
              "      </output>\n",
              "      <script src=\"/nbextensions/google.colab/files.js\"></script> "
            ],
            "text/plain": [
              "<IPython.core.display.HTML object>"
            ]
          },
          "metadata": {
            "tags": []
          }
        },
        {
          "output_type": "stream",
          "text": [
            "Saving secom_labels.data to secom_labels.data\n"
          ],
          "name": "stdout"
        },
        {
          "output_type": "display_data",
          "data": {
            "text/html": [
              "\n",
              "     <input type=\"file\" id=\"files-0883d261-b38f-481b-b66b-fb4724330368\" name=\"files[]\" multiple disabled\n",
              "        style=\"border:none\" />\n",
              "     <output id=\"result-0883d261-b38f-481b-b66b-fb4724330368\">\n",
              "      Upload widget is only available when the cell has been executed in the\n",
              "      current browser session. Please rerun this cell to enable.\n",
              "      </output>\n",
              "      <script src=\"/nbextensions/google.colab/files.js\"></script> "
            ],
            "text/plain": [
              "<IPython.core.display.HTML object>"
            ]
          },
          "metadata": {
            "tags": []
          }
        },
        {
          "output_type": "stream",
          "text": [
            "Saving secom.data to secom.data\n"
          ],
          "name": "stdout"
        }
      ]
    },
    {
      "cell_type": "code",
      "metadata": {
        "id": "V4WvIeZrKvFM"
      },
      "source": [
        "import io"
      ],
      "execution_count": null,
      "outputs": []
    },
    {
      "cell_type": "code",
      "metadata": {
        "id": "gs_oVie0KvrN"
      },
      "source": [
        "df = pd.read_csv(io.BytesIO(uploaded2['secom.data']), sep = ' ', header = None )\n",
        "label = pd.read_csv(io.BytesIO(uploaded['secom_labels.data']), sep = ' ', header = None )[0]"
      ],
      "execution_count": null,
      "outputs": []
    },
    {
      "cell_type": "code",
      "metadata": {
        "colab": {
          "base_uri": "https://localhost:8080/"
        },
        "id": "ODmY2Z1kLFPd",
        "outputId": "45956a63-cf21-43f3-ad5d-d4f6b1e23c82"
      },
      "source": [
        " col_candidate = []\n",
        "#COl 기준 std가 0이면 제외하기\n",
        "for idx, val in zip(df.columns, df.describe().iloc[2]):\n",
        "  if val != 0:\n",
        "    col_candidate.append(idx)\n",
        "df = df[col_candidate]\n",
        "print(len(col_candidate))"
      ],
      "execution_count": null,
      "outputs": [
        {
          "output_type": "stream",
          "text": [
            "474\n"
          ],
          "name": "stdout"
        }
      ]
    },
    {
      "cell_type": "code",
      "metadata": {
        "colab": {
          "base_uri": "https://localhost:8080/"
        },
        "id": "HL-xk1rlLJTL",
        "outputId": "779b0cf0-c338-4c98-adeb-a65374d7e814"
      },
      "source": [
        "#COl 기준 데이터의 수가 55% 이상인 것만 살리기\n",
        "col_candidate = []\n",
        "for idx, val in zip(df.columns, df.describe().iloc[0]):\n",
        "  if val >= 700:\n",
        "    col_candidate.append(idx)\n",
        "df = df[col_candidate]\n",
        "print(len(col_candidate))"
      ],
      "execution_count": null,
      "outputs": [
        {
          "output_type": "stream",
          "text": [
            "450\n"
          ],
          "name": "stdout"
        }
      ]
    },
    {
      "cell_type": "code",
      "metadata": {
        "colab": {
          "base_uri": "https://localhost:8080/"
        },
        "id": "uV_EgDnWNc7z",
        "outputId": "e146c83b-d1ca-4993-8adf-92f1858fd33b"
      },
      "source": [
        "!pip install impyute"
      ],
      "execution_count": null,
      "outputs": [
        {
          "output_type": "stream",
          "text": [
            "Collecting impyute\n",
            "  Downloading https://files.pythonhosted.org/packages/37/28/86829f67c9affb847facaab94687761d3555539ec675f7577778c5b2680a/impyute-0.0.8-py2.py3-none-any.whl\n",
            "Requirement already satisfied: scipy in /usr/local/lib/python3.7/dist-packages (from impyute) (1.4.1)\n",
            "Requirement already satisfied: scikit-learn in /usr/local/lib/python3.7/dist-packages (from impyute) (0.22.2.post1)\n",
            "Requirement already satisfied: numpy in /usr/local/lib/python3.7/dist-packages (from impyute) (1.19.5)\n",
            "Requirement already satisfied: joblib>=0.11 in /usr/local/lib/python3.7/dist-packages (from scikit-learn->impyute) (1.0.1)\n",
            "Installing collected packages: impyute\n",
            "Successfully installed impyute-0.0.8\n"
          ],
          "name": "stdout"
        }
      ]
    },
    {
      "cell_type": "code",
      "metadata": {
        "id": "zTBZHfhmNiiz"
      },
      "source": [
        "import copy\n",
        "data_with_label = copy.deepcopy(df)\n",
        "data_with_label['Class'] = label\n",
        "\n",
        "from sklearn.impute import KNNImputer\n",
        "\n",
        "imputer = KNNImputer(n_neighbors=3)\n",
        "imputed = imputer.fit_transform(data_with_label)\n",
        "data_with_label_imputed = pd.DataFrame(imputed, columns=data_with_label.columns)"
      ],
      "execution_count": null,
      "outputs": []
    },
    {
      "cell_type": "code",
      "metadata": {
        "id": "XIkpENSDONky"
      },
      "source": [
        "check_for_any_nan= data_with_label_imputed .isna().values.any()"
      ],
      "execution_count": null,
      "outputs": []
    },
    {
      "cell_type": "code",
      "metadata": {
        "colab": {
          "base_uri": "https://localhost:8080/"
        },
        "id": "pfFChkeNOQxr",
        "outputId": "64d951f3-e7f2-4e25-abb2-c37cc5c97cb7"
      },
      "source": [
        "print(\"NaN Presence:\"+str(check_for_any_nan))"
      ],
      "execution_count": null,
      "outputs": [
        {
          "output_type": "stream",
          "text": [
            "NaN Presence:False\n"
          ],
          "name": "stdout"
        }
      ]
    },
    {
      "cell_type": "code",
      "metadata": {
        "colab": {
          "base_uri": "https://localhost:8080/"
        },
        "id": "iDJnCE_iLPVz",
        "outputId": "2fadbed9-24e7-4801-bb58-122981ee001c"
      },
      "source": [
        "from statsmodels.formula.api import ols"
      ],
      "execution_count": null,
      "outputs": [
        {
          "output_type": "stream",
          "text": [
            "/usr/local/lib/python3.7/dist-packages/statsmodels/tools/_testing.py:19: FutureWarning: pandas.util.testing is deprecated. Use the functions in the public API at pandas.testing instead.\n",
            "  import pandas.util.testing as tm\n"
          ],
          "name": "stderr"
        }
      ]
    },
    {
      "cell_type": "code",
      "metadata": {
        "colab": {
          "base_uri": "https://localhost:8080/"
        },
        "id": "h4xYWbHTPcpT",
        "outputId": "9fb57650-0247-47fd-e51a-dfb552a9a666"
      },
      "source": [
        "print(data_with_label_imputed.columns)"
      ],
      "execution_count": null,
      "outputs": [
        {
          "output_type": "stream",
          "text": [
            "Index([      0,       1,       2,       3,       4,       6,       7,       8,\n",
            "             9,      10,\n",
            "       ...\n",
            "           577,     582,     583,     584,     585,     586,     587,     588,\n",
            "           589, 'Class'],\n",
            "      dtype='object', length=451)\n"
          ],
          "name": "stdout"
        }
      ]
    },
    {
      "cell_type": "code",
      "metadata": {
        "id": "wgUqzbmkMTTj"
      },
      "source": [
        "#걍 시험삼아 첫번째 열에다가 회귀분석 실시.\n",
        "test_col = data_with_label_imputed[0]\n",
        "test_col = pd.concat([test_col,label],axis=1)\n",
        "test_col.columns = ['test_col','Class']"
      ],
      "execution_count": null,
      "outputs": []
    },
    {
      "cell_type": "code",
      "metadata": {
        "colab": {
          "base_uri": "https://localhost:8080/"
        },
        "id": "VHS_JugbOalC",
        "outputId": "36e83537-ebd6-4289-df11-090a4715c432"
      },
      "source": [
        "check_for_any_nan= test_col .isna().values.any()\n",
        "print(\"NaN Presence:\"+str(check_for_any_nan))"
      ],
      "execution_count": null,
      "outputs": [
        {
          "output_type": "stream",
          "text": [
            "NaN Presence:True\n"
          ],
          "name": "stdout"
        }
      ]
    },
    {
      "cell_type": "code",
      "metadata": {
        "colab": {
          "base_uri": "https://localhost:8080/",
          "height": 478
        },
        "id": "PWvRtgB9NDAj",
        "outputId": "dceb1ce0-4759-4720-f69b-d4e55d93d5da"
      },
      "source": [
        "temp =[]\n",
        "res = ols('Class~test_col', data=test_col).fit()\n",
        "res.summary()"
      ],
      "execution_count": null,
      "outputs": [
        {
          "output_type": "execute_result",
          "data": {
            "text/html": [
              "<table class=\"simpletable\">\n",
              "<caption>OLS Regression Results</caption>\n",
              "<tr>\n",
              "  <th>Dep. Variable:</th>          <td>Class</td>      <th>  R-squared:         </th> <td>   0.001</td>\n",
              "</tr>\n",
              "<tr>\n",
              "  <th>Model:</th>                   <td>OLS</td>       <th>  Adj. R-squared:    </th> <td>  -0.000</td>\n",
              "</tr>\n",
              "<tr>\n",
              "  <th>Method:</th>             <td>Least Squares</td>  <th>  F-statistic:       </th> <td>  0.9425</td>\n",
              "</tr>\n",
              "<tr>\n",
              "  <th>Date:</th>             <td>Tue, 01 Jun 2021</td> <th>  Prob (F-statistic):</th>  <td> 0.332</td> \n",
              "</tr>\n",
              "<tr>\n",
              "  <th>Time:</th>                 <td>06:41:33</td>     <th>  Log-Likelihood:    </th> <td> -1130.1</td>\n",
              "</tr>\n",
              "<tr>\n",
              "  <th>No. Observations:</th>      <td>  1567</td>      <th>  AIC:               </th> <td>   2264.</td>\n",
              "</tr>\n",
              "<tr>\n",
              "  <th>Df Residuals:</th>          <td>  1565</td>      <th>  BIC:               </th> <td>   2275.</td>\n",
              "</tr>\n",
              "<tr>\n",
              "  <th>Df Model:</th>              <td>     1</td>      <th>                     </th>     <td> </td>   \n",
              "</tr>\n",
              "<tr>\n",
              "  <th>Covariance Type:</th>      <td>nonrobust</td>    <th>                     </th>     <td> </td>   \n",
              "</tr>\n",
              "</table>\n",
              "<table class=\"simpletable\">\n",
              "<tr>\n",
              "      <td></td>         <th>coef</th>     <th>std err</th>      <th>t</th>      <th>P>|t|</th>  <th>[0.025</th>    <th>0.975]</th>  \n",
              "</tr>\n",
              "<tr>\n",
              "  <th>Intercept</th> <td>   -0.3667</td> <td>    0.516</td> <td>   -0.711</td> <td> 0.477</td> <td>   -1.378</td> <td>    0.645</td>\n",
              "</tr>\n",
              "<tr>\n",
              "  <th>test_col</th>  <td>   -0.0002</td> <td>    0.000</td> <td>   -0.971</td> <td> 0.332</td> <td>   -0.001</td> <td>    0.000</td>\n",
              "</tr>\n",
              "</table>\n",
              "<table class=\"simpletable\">\n",
              "<tr>\n",
              "  <th>Omnibus:</th>       <td>1110.617</td> <th>  Durbin-Watson:     </th> <td>   1.771</td>\n",
              "</tr>\n",
              "<tr>\n",
              "  <th>Prob(Omnibus):</th>  <td> 0.000</td>  <th>  Jarque-Bera (JB):  </th> <td>9861.749</td>\n",
              "</tr>\n",
              "<tr>\n",
              "  <th>Skew:</th>           <td> 3.481</td>  <th>  Prob(JB):          </th> <td>    0.00</td>\n",
              "</tr>\n",
              "<tr>\n",
              "  <th>Kurtosis:</th>       <td>13.128</td>  <th>  Cond. No.          </th> <td>1.24e+05</td>\n",
              "</tr>\n",
              "</table><br/><br/>Warnings:<br/>[1] Standard Errors assume that the covariance matrix of the errors is correctly specified.<br/>[2] The condition number is large, 1.24e+05. This might indicate that there are<br/>strong multicollinearity or other numerical problems."
            ],
            "text/plain": [
              "<class 'statsmodels.iolib.summary.Summary'>\n",
              "\"\"\"\n",
              "                            OLS Regression Results                            \n",
              "==============================================================================\n",
              "Dep. Variable:                  Class   R-squared:                       0.001\n",
              "Model:                            OLS   Adj. R-squared:                 -0.000\n",
              "Method:                 Least Squares   F-statistic:                    0.9425\n",
              "Date:                Tue, 01 Jun 2021   Prob (F-statistic):              0.332\n",
              "Time:                        06:41:33   Log-Likelihood:                -1130.1\n",
              "No. Observations:                1567   AIC:                             2264.\n",
              "Df Residuals:                    1565   BIC:                             2275.\n",
              "Df Model:                           1                                         \n",
              "Covariance Type:            nonrobust                                         \n",
              "==============================================================================\n",
              "                 coef    std err          t      P>|t|      [0.025      0.975]\n",
              "------------------------------------------------------------------------------\n",
              "Intercept     -0.3667      0.516     -0.711      0.477      -1.378       0.645\n",
              "test_col      -0.0002      0.000     -0.971      0.332      -0.001       0.000\n",
              "==============================================================================\n",
              "Omnibus:                     1110.617   Durbin-Watson:                   1.771\n",
              "Prob(Omnibus):                  0.000   Jarque-Bera (JB):             9861.749\n",
              "Skew:                           3.481   Prob(JB):                         0.00\n",
              "Kurtosis:                      13.128   Cond. No.                     1.24e+05\n",
              "==============================================================================\n",
              "\n",
              "Warnings:\n",
              "[1] Standard Errors assume that the covariance matrix of the errors is correctly specified.\n",
              "[2] The condition number is large, 1.24e+05. This might indicate that there are\n",
              "strong multicollinearity or other numerical problems.\n",
              "\"\"\""
            ]
          },
          "metadata": {
            "tags": []
          },
          "execution_count": 60
        }
      ]
    },
    {
      "cell_type": "code",
      "metadata": {
        "colab": {
          "base_uri": "https://localhost:8080/"
        },
        "id": "YzXiSryHU8Q3",
        "outputId": "8c88a3b9-6770-4697-f323-671c95657278"
      },
      "source": [
        "res.tvalues"
      ],
      "execution_count": null,
      "outputs": [
        {
          "output_type": "execute_result",
          "data": {
            "text/plain": [
              "Intercept   -0.710872\n",
              "test_col    -0.970829\n",
              "dtype: float64"
            ]
          },
          "metadata": {
            "tags": []
          },
          "execution_count": 66
        }
      ]
    },
    {
      "cell_type": "code",
      "metadata": {
        "colab": {
          "base_uri": "https://localhost:8080/"
        },
        "id": "r0JBBt_kSgd5",
        "outputId": "b4a5d733-e507-4e81-fe29-d4f2213f14f8"
      },
      "source": [
        "res.pvalues[1]"
      ],
      "execution_count": null,
      "outputs": [
        {
          "output_type": "execute_result",
          "data": {
            "text/plain": [
              "0.0022796026874769572"
            ]
          },
          "metadata": {
            "tags": []
          },
          "execution_count": 89
        }
      ]
    },
    {
      "cell_type": "code",
      "metadata": {
        "colab": {
          "base_uri": "https://localhost:8080/"
        },
        "id": "eGY4GEWxT24J",
        "outputId": "ed53a573-36f4-4cb5-9e9c-6c5dbb262562"
      },
      "source": [
        "print(res.fvalue) #F-statistic\n",
        "print(res.f_pvalue) #Prob (F-statistic)"
      ],
      "execution_count": null,
      "outputs": [
        {
          "output_type": "stream",
          "text": [
            "0.9425082852447177\n",
            "0.33178362551515383\n"
          ],
          "name": "stdout"
        }
      ]
    },
    {
      "cell_type": "code",
      "metadata": {
        "id": "DlmuvN4nQwLE"
      },
      "source": [
        "tvalue = []\n",
        "fstatic = []\n",
        "f_pvalue = []\n",
        "pvalue = []"
      ],
      "execution_count": null,
      "outputs": []
    },
    {
      "cell_type": "code",
      "metadata": {
        "colab": {
          "base_uri": "https://localhost:8080/"
        },
        "id": "Q6NkYG21Rt_Z",
        "outputId": "5d3b1b89-8c4f-45d2-9b09-c033bf458cc3"
      },
      "source": [
        "for i in data_with_label_imputed.columns.values:\n",
        "  print(i)\n",
        "  test_col = data_with_label_imputed[i]\n",
        "  test_col = pd.concat([test_col,label],axis=1)\n",
        "  test_col.columns = ['test_col','Class']\n",
        "  res = ols('Class~test_col', data=test_col).fit()\n",
        "  pvalue.append([i,res.pvalues[1]])\n",
        "  tvalue.append([i,res.tvalues])\n",
        "  fstatic.append([i,res.fvalue])\n",
        "  f_pvalue.append([i,res.f_pvalue])"
      ],
      "execution_count": null,
      "outputs": [
        {
          "output_type": "stream",
          "text": [
            "0\n",
            "1\n",
            "2\n",
            "3\n",
            "4\n",
            "6\n",
            "7\n",
            "8\n",
            "9\n",
            "10\n",
            "11\n",
            "12\n",
            "14\n",
            "15\n",
            "16\n",
            "17\n",
            "18\n",
            "19\n",
            "20\n",
            "21\n",
            "22\n",
            "23\n",
            "24\n",
            "25\n",
            "26\n",
            "27\n",
            "28\n",
            "29\n",
            "30\n",
            "31\n",
            "32\n",
            "33\n",
            "34\n",
            "35\n",
            "36\n",
            "37\n",
            "38\n",
            "39\n",
            "40\n",
            "41\n",
            "43\n",
            "44\n",
            "45\n",
            "46\n",
            "47\n",
            "48\n",
            "50\n",
            "51\n",
            "53\n",
            "54\n",
            "55\n",
            "56\n",
            "57\n",
            "58\n",
            "59\n",
            "60\n",
            "61\n",
            "62\n",
            "63\n",
            "64\n",
            "65\n",
            "66\n",
            "67\n",
            "68\n",
            "70\n",
            "71\n",
            "72\n",
            "73\n",
            "74\n",
            "75\n",
            "76\n",
            "77\n",
            "78\n",
            "79\n",
            "80\n",
            "81\n",
            "82\n",
            "83\n",
            "84\n",
            "86\n",
            "87\n",
            "88\n",
            "89\n",
            "90\n",
            "91\n",
            "92\n",
            "93\n",
            "94\n",
            "95\n",
            "96\n",
            "98\n",
            "99\n",
            "100\n",
            "101\n",
            "102\n",
            "103\n",
            "104\n",
            "105\n",
            "106\n",
            "107\n",
            "108\n",
            "112\n",
            "113\n",
            "114\n",
            "115\n",
            "116\n",
            "117\n",
            "118\n",
            "119\n",
            "120\n",
            "121\n",
            "122\n",
            "123\n",
            "124\n",
            "125\n",
            "126\n",
            "127\n",
            "128\n",
            "129\n",
            "130\n",
            "131\n",
            "132\n",
            "133\n",
            "134\n",
            "135\n",
            "136\n",
            "137\n",
            "138\n",
            "139\n",
            "140\n",
            "142\n",
            "143\n",
            "144\n",
            "145\n",
            "146\n",
            "147\n",
            "148\n",
            "150\n",
            "151\n",
            "152\n",
            "153\n",
            "154\n",
            "155\n",
            "156\n",
            "159\n",
            "160\n",
            "161\n",
            "162\n",
            "163\n",
            "164\n",
            "165\n",
            "166\n",
            "167\n",
            "168\n",
            "169\n",
            "170\n",
            "171\n",
            "172\n",
            "173\n",
            "174\n",
            "175\n",
            "176\n",
            "177\n",
            "180\n",
            "181\n",
            "182\n",
            "183\n",
            "184\n",
            "185\n",
            "187\n",
            "188\n",
            "195\n",
            "196\n",
            "197\n",
            "198\n",
            "199\n",
            "200\n",
            "201\n",
            "202\n",
            "203\n",
            "204\n",
            "205\n",
            "206\n",
            "207\n",
            "208\n",
            "209\n",
            "210\n",
            "211\n",
            "212\n",
            "213\n",
            "214\n",
            "215\n",
            "216\n",
            "217\n",
            "218\n",
            "219\n",
            "221\n",
            "222\n",
            "223\n",
            "224\n",
            "225\n",
            "227\n",
            "228\n",
            "238\n",
            "239\n",
            "247\n",
            "248\n",
            "249\n",
            "250\n",
            "251\n",
            "252\n",
            "253\n",
            "254\n",
            "255\n",
            "267\n",
            "268\n",
            "269\n",
            "270\n",
            "271\n",
            "272\n",
            "273\n",
            "274\n",
            "275\n",
            "277\n",
            "278\n",
            "279\n",
            "280\n",
            "281\n",
            "282\n",
            "283\n",
            "285\n",
            "286\n",
            "287\n",
            "288\n",
            "289\n",
            "290\n",
            "291\n",
            "294\n",
            "295\n",
            "296\n",
            "297\n",
            "298\n",
            "299\n",
            "300\n",
            "301\n",
            "302\n",
            "303\n",
            "304\n",
            "305\n",
            "306\n",
            "307\n",
            "308\n",
            "309\n",
            "310\n",
            "311\n",
            "312\n",
            "316\n",
            "317\n",
            "318\n",
            "319\n",
            "320\n",
            "321\n",
            "323\n",
            "324\n",
            "331\n",
            "332\n",
            "333\n",
            "334\n",
            "335\n",
            "336\n",
            "337\n",
            "338\n",
            "339\n",
            "340\n",
            "341\n",
            "342\n",
            "343\n",
            "344\n",
            "345\n",
            "346\n",
            "347\n",
            "348\n",
            "349\n",
            "350\n",
            "351\n",
            "352\n",
            "353\n",
            "354\n",
            "355\n",
            "356\n",
            "357\n",
            "359\n",
            "360\n",
            "361\n",
            "362\n",
            "363\n",
            "365\n",
            "366\n",
            "367\n",
            "368\n",
            "376\n",
            "377\n",
            "385\n",
            "386\n",
            "387\n",
            "388\n",
            "389\n",
            "390\n",
            "391\n",
            "392\n",
            "393\n",
            "405\n",
            "406\n",
            "407\n",
            "408\n",
            "409\n",
            "410\n",
            "411\n",
            "412\n",
            "413\n",
            "415\n",
            "416\n",
            "417\n",
            "418\n",
            "419\n",
            "420\n",
            "421\n",
            "423\n",
            "424\n",
            "425\n",
            "426\n",
            "427\n",
            "428\n",
            "429\n",
            "430\n",
            "431\n",
            "432\n",
            "433\n",
            "434\n",
            "435\n",
            "436\n",
            "437\n",
            "438\n",
            "439\n",
            "440\n",
            "441\n",
            "442\n",
            "443\n",
            "444\n",
            "445\n",
            "446\n",
            "447\n",
            "448\n",
            "452\n",
            "453\n",
            "454\n",
            "455\n",
            "456\n",
            "457\n",
            "459\n",
            "460\n",
            "467\n",
            "468\n",
            "469\n",
            "470\n",
            "471\n",
            "472\n",
            "473\n",
            "474\n",
            "475\n",
            "476\n",
            "477\n",
            "478\n",
            "479\n",
            "480\n",
            "482\n",
            "483\n",
            "484\n",
            "485\n",
            "486\n",
            "487\n",
            "488\n",
            "489\n",
            "490\n",
            "491\n",
            "493\n",
            "494\n",
            "495\n",
            "496\n",
            "497\n",
            "499\n",
            "500\n",
            "510\n",
            "511\n",
            "519\n",
            "520\n",
            "521\n",
            "522\n",
            "523\n",
            "524\n",
            "525\n",
            "526\n",
            "527\n",
            "539\n",
            "540\n",
            "541\n",
            "542\n",
            "543\n",
            "544\n",
            "545\n",
            "546\n",
            "547\n",
            "548\n",
            "549\n",
            "550\n",
            "551\n",
            "552\n",
            "553\n",
            "554\n",
            "555\n",
            "556\n",
            "557\n",
            "558\n",
            "559\n",
            "560\n",
            "561\n",
            "562\n",
            "563\n",
            "564\n",
            "565\n",
            "566\n",
            "567\n",
            "568\n",
            "569\n",
            "570\n",
            "571\n",
            "572\n",
            "573\n",
            "574\n",
            "575\n",
            "576\n",
            "577\n",
            "582\n",
            "583\n",
            "584\n",
            "585\n",
            "586\n",
            "587\n",
            "588\n",
            "589\n",
            "Class\n"
          ],
          "name": "stdout"
        }
      ]
    },
    {
      "cell_type": "code",
      "metadata": {
        "colab": {
          "base_uri": "https://localhost:8080/"
        },
        "id": "i77JefTTXzxO",
        "outputId": "b2bd3360-4384-46ed-8514-edfb5a3c74a4"
      },
      "source": [
        "print(pvalue)"
      ],
      "execution_count": null,
      "outputs": [
        {
          "output_type": "stream",
          "text": [
            "[[0, 0.33178362551491436], [1, 0.953401464396296], [2, 0.940510148375348], [3, 0.3348811816208863], [4, 0.589795494882699], [6, 0.512752825215812], [7, 0.5288148405428261], [8, 0.2662207237402001], [9, 0.21986391898144017], [10, 0.1808429481270553], [11, 0.19824764251474544], [12, 0.8167516779888429], [14, 0.006082694916188091], [15, 0.9068312943150256], [16, 0.924245792711067], [17, 0.7050896965588649], [18, 0.7228086673441424], [19, 0.22807964419642074], [20, 0.3576435435649833], [21, 2.2404024318791167e-05], [22, 0.004009767962503907], [23, 0.5951996723345029], [24, 0.4838749229079842], [25, 0.15126328562497324], [26, 0.0013479270100311058], [27, 0.24824326434391872], [28, 1.47155605625527e-05], [29, 0.4700302573410009], [30, 0.1336708345959043], [31, 0.05400845141532351], [32, 0.039190446338839606], [33, 0.0013359852538785333], [34, 0.9190839116987193], [35, 0.6280636550553269], [36, 0.9190810698295218], [37, 0.10132845190791054], [38, 0.03704885382695859], [39, 0.9358078184903029], [40, 0.03815187991340692], [41, 0.8907684322729198], [43, 0.4174519997686641], [44, 0.3539579591692599], [45, 0.7324809467596112], [46, 0.7163713010289257], [47, 0.2671090399411565], [48, 0.5420268332896759], [50, 0.5531030418772986], [51, 0.813984808236818], [53, 0.8044901196720836], [54, 0.6077844253983383], [55, 0.6980009157855434], [56, 0.01139917908578435], [57, 0.4818999786030448], [58, 0.027973634306989025], [59, 6.033165686609941e-10], [60, 0.4779645157673198], [61, 0.6597781350683785], [62, 0.4898430130112067], [63, 0.019654749000759288], [64, 0.0025640259636963434], [65, 0.030076983161992032], [66, 0.1364440072812955], [67, 0.11727152606014496], [68, 0.03916241503444002], [70, 0.04695010621792266], [71, 0.9318455944926571], [72, 0.3396917151851421], [73, 0.6735043633389453], [74, 0.7898569293060429], [75, 0.26732619449264133], [76, 0.025577734211379658], [77, 0.8226485931445428], [78, 0.08198615139227348], [79, 0.0019367758237277793], [80, 0.22234455002101927], [81, 0.3637779512894368], [82, 0.6505570890849046], [83, 0.33493737565883397], [84, 0.7092198719201737], [86, 0.3231583400596718], [87, 0.22875417340049908], [88, 0.2878777787423371], [89, 0.2014123801025029], [90, 0.04608367274585507], [91, 0.701998963613687], [92, 0.7409746687883945], [93, 0.21735648467345403], [94, 0.9172634200774488], [95, 0.016607032279087434], [96, 0.7101848909135169], [98, 0.41341539430609786], [99, 0.0634782232689418], [100, 0.01034294233999195], [101, 0.32372086709245107], [102, 0.08556018436699887], [103, 1.9463931386492664e-09], [104, 0.12256068318063858], [105, 0.982379342258771], [106, 0.2509693950805397], [107, 0.5503598639515852], [108, 0.971643790681137], [112, 0.37453046076393404], [113, 0.9580971584661367], [114, 0.006552685395948352], [115, 0.08408061624570053], [116, 0.6095452267368444], [117, 0.5083676959729506], [118, 0.38207557492985555], [119, 0.8243313666535566], [120, 0.42248690133027], [121, 0.0007383311666463659], [122, 0.0019910940239488265], [123, 0.004014820614769675], [124, 0.00018876362430467777], [125, 0.0009281229703583892], [126, 0.029902763085804494], [127, 0.003047522908502012], [128, 0.20935280715683105], [129, 4.419747799922411e-05], [130, 0.002444606452992264], [131, 0.4919898388926769], [132, 0.993698203183459], [133, 0.007292571434565832], [134, 0.2334036469489196], [135, 0.2742312075456911], [136, 0.6631129274014972], [137, 0.21698275103788825], [138, 0.05921875513333262], [139, 0.8446489742637661], [140, 0.5935670031942026], [142, 0.5337910217934001], [143, 0.09782112672206607], [144, 0.13055163843868928], [145, 0.08330525783276549], [146, 0.08654829038116929], [147, 0.7512026209571291], [148, 0.8250707525364345], [150, 0.6228848119742629], [151, 0.37606486549473317], [152, 0.855752757535093], [153, 0.3925659927381594], [154, 0.9506655168537174], [155, 0.30382820466268523], [156, 0.9321169692611242], [159, 0.0019372040330376441], [160, 0.0004151037272247438], [161, 0.4256603728401863], [162, 0.8226926732629101], [163, 8.110877821412602e-05], [164, 0.0005473229718616792], [165, 0.0009084894453557283], [166, 0.03692873649174978], [167, 0.39618116207744924], [168, 0.8079880496236016], [169, 0.6303715602830509], [170, 0.14990313218538462], [171, 0.8927891821380086], [172, 0.1416226984873067], [173, 0.7722654503719952], [174, 0.14142388786187662], [175, 0.09072165512630556], [176, 0.5690616699228211], [177, 0.8872461113843024], [180, 0.0018530179847761233], [181, 0.0876741526019826], [182, 0.21829437089473408], [183, 0.027984823631814558], [184, 0.896904490122563], [185, 0.7229575567681881], [187, 0.8222231130689631], [188, 0.0625803149254266], [195, 0.14528253714114178], [196, 0.0340506628427144], [197, 0.02637040056223304], [198, 0.11406708528493248], [199, 0.039455752253806486], [200, 0.01682744035758142], [201, 0.24910810550070708], [202, 0.5881820498474106], [203, 0.07229894567679285], [204, 0.22944529485421622], [205, 0.033932987351461184], [206, 0.7898569293060497], [207, 0.1612687722959456], [208, 0.36631235966635456], [209, 0.789856929306028], [210, 5.2219540817860495e-05], [211, 0.07932521014364688], [212, 0.8786695568744245], [213, 0.07969154887150622], [214, 0.19074244131992585], [215, 0.4711641709095685], [216, 0.5524013790924687], [217, 0.6470001840751682], [218, 0.5555214929198423], [219, 0.6378325540906717], [221, 0.3926549837694516], [222, 0.2156737348198338], [223, 0.9662975829308986], [224, 0.5339538672281869], [225, 0.4509667374611943], [227, 0.09802738760988039], [228, 0.6607751694489166], [238, 0.34253659655800106], [239, 0.3110068384797081], [247, 0.02010822012513073], [248, 0.7244661501199137], [249, 0.008479593789939207], [250, 0.7829615071808659], [251, 0.6832747136964288], [252, 0.7930023061015349], [253, 0.6571098485948738], [254, 0.39485009064508536], [255, 0.6426650992672271], [267, 0.5558974111366732], [268, 0.7773448003119929], [269, 0.46952481901944854], [270, 0.26149803107231273], [271, 0.29372017672424156], [272, 0.19664997614425694], [273, 0.3139494081902589], [274, 0.8258114623532429], [275, 0.5934837567842437], [277, 0.6921994148590453], [278, 0.18046624113321338], [279, 0.1301831809495409], [280, 0.046362710012323664], [281, 0.059983327466191436], [282, 0.6922063483392694], [283, 0.791928778256534], [285, 0.6179406311454991], [286, 0.40258276565123075], [287, 0.8498049487744118], [288, 0.3208032410367215], [289, 0.9182510072613451], [290, 0.5842215099430155], [291, 0.9997711588090544], [294, 0.001136588501486445], [295, 0.0003018111772213698], [296, 0.5136056152543859], [297, 0.9055870638332735], [298, 5.5961141066649425e-05], [299, 0.0005476697602580396], [300, 0.000843610392146218], [301, 0.0570835695371462], [302, 0.3458656327145797], [303, 0.8095475412067872], [304, 0.7400408106367059], [305, 0.41466539304780126], [306, 0.8948961328070131], [307, 0.3872171092985348], [308, 0.9486282980980889], [309, 0.38773287241859977], [310, 0.1189766927677017], [311, 0.45920335844340177], [312, 0.9028848671706797], [316, 0.000397392251243962], [317, 0.11770160710163187], [318, 0.16016695178422757], [319, 0.03622708577897367], [320, 0.8936591499431208], [321, 0.699783963662626], [323, 0.8214550495205898], [324, 0.11742886086504044], [331, 0.1703464132607499], [332, 0.16814199555258377], [333, 0.053718769021933836], [334, 0.10397073013641338], [335, 0.1719571972505801], [336, 0.1168649351689624], [337, 0.033650428146785344], [338, 0.7811977905979693], [339, 0.23781037362459725], [340, 0.1703832239548222], [341, 0.04944360636378722], [342, 0.7898569293060497], [343, 0.22226272838276087], [344, 0.3581257083552922], [345, 0.3615374025775767], [346, 0.4035943428443828], [347, 0.789856929306034], [348, 2.5649309942488036e-07], [349, 0.07165989622261475], [350, 0.8625086322544394], [351, 0.0864036438387349], [352, 0.3800483028614746], [353, 0.46069349513656854], [354, 0.7590185596858411], [355, 0.720033987476718], [356, 0.6930087293494231], [357, 0.5936273287876531], [359, 0.19064478200155296], [360, 0.12659939823111135], [361, 0.8441260099770022], [362, 0.566621335697429], [363, 0.27020985156134325], [365, 0.028920960676709215], [366, 0.6108680810826608], [367, 0.9088104170455041], [368, 0.724259708880551], [376, 0.41445322684184704], [377, 0.16828671173483012], [385, 0.20538201315606394], [386, 0.7453090316059386], [387, 0.008642555755349892], [388, 0.43528674299202996], [389, 0.6816185011847948], [390, 0.7878091481565812], [391, 0.8800617482775157], [392, 0.4001642766705601], [393, 0.8947133826976161], [405, 0.6121971712280712], [406, 0.36083429173060577], [407, 0.39740548748349336], [408, 0.2755405488933017], [409, 0.607600506957469], [410, 0.22395429925168306], [411, 0.060261832373017014], [412, 0.7479605397292761], [413, 0.8088562692842809], [415, 0.4368476169888813], [416, 0.11109684412835656], [417, 0.09255450201023346], [418, 0.23259933663689858], [419, 0.5741013633648844], [420, 0.7831985199330209], [421, 0.8376658405302796], [423, 0.05813652823835362], [424, 0.3667173445210792], [425, 0.5832727692256028], [426, 0.4185423233632152], [427, 0.9762295936098746], [428, 0.30261589465391464], [429, 0.9913079346120222], [430, 1.4106297841381326e-05], [431, 1.9852728819322013e-06], [432, 0.8662591318604854], [433, 0.07122521129793584], [434, 1.0072733196929693e-05], [435, 1.7567364256512363e-05], [436, 2.5401416561353844e-05], [437, 0.005087817188274589], [438, 0.5699472933374705], [439, 0.39582402682776496], [440, 0.7453948085004664], [441, 0.1914656896951782], [442, 0.596147147441416], [443, 0.14607648668655704], [444, 0.790667932279065], [445, 0.13554975628082871], [446, 0.10129337758216106], [447, 0.5563072413067947], [448, 0.8898138906084839], [452, 0.0022796026874769572], [453, 0.1007296316609843], [454, 0.18858355955884512], [455, 0.026189051056137325], [456, 0.9690612143974991], [457, 0.7427905264747428], [459, 0.7993333747208279], [460, 0.016482310788116218], [467, 0.1519005685976145], [468, 0.0297349160892953], [469, 0.036724191205169475], [470, 0.1270730920880865], [471, 0.018404629862757555], [472, 0.9503920070712528], [473, 0.6901059795711592], [474, 0.5438487907079956], [475, 0.07910495809041888], [476, 0.2537777609198838], [477, 0.026271442203141416], [478, 0.7898569293060297], [479, 0.11541405578522251], [480, 0.6506196355242748], [482, 0.6777280406271754], [483, 0.3511964144150661], [484, 0.09035369764838316], [485, 0.22924538409055017], [486, 0.3026880839569918], [487, 0.6490925675086547], [488, 0.07796923473745454], [489, 0.4319824843276625], [490, 0.7876404263522955], [491, 0.5850093967809762], [493, 0.4423596209649844], [494, 0.16392146412911987], [495, 0.8888929011586675], [496, 0.8351845112355264], [497, 0.34151172432301014], [499, 0.23509772391892866], [500, 0.5598531604019817], [510, 1.8145000156181684e-07], [511, 0.02976734206028437], [519, 0.0416589975620241], [520, 0.7609671284639313], [521, 0.14622474285701534], [522, 0.5885160379639494], [523, 0.6807591889216422], [524, 0.817398907907226], [525, 0.6555645543544796], [526, 0.3942477116858947], [527, 0.680074676244059], [539, 0.5060232836335521], [540, 0.8122615442710692], [541, 0.3234246156379439], [542, 0.043896330129878945], [543, 0.041120106831433335], [544, 0.3850869837523987], [545, 0.06721144778281038], [546, 0.7346643308829282], [547, 0.07445453416954456], [548, 0.9331699271038798], [549, 0.9620757232480259], [550, 0.07270543685277207], [551, 0.03076515507962443], [552, 0.9364903594771476], [553, 0.07767144026270445], [554, 0.03253846177596565], [555, 0.461736525578339], [556, 0.09543470589840705], [557, 0.029550613797381383], [558, 0.35844133728906036], [559, 0.33984046303449855], [560, 0.42670447211302853], [561, 0.3001185778833248], [562, 0.04595354485690318], [563, 0.405634084683023], [564, 0.3368321575249382], [565, 0.17335997452016708], [566, 0.6312434717192188], [567, 0.18470124370833071], [568, 0.27622406300255525], [569, 0.09781115446739591], [570, 0.9477700579766035], [571, 0.4439339754210765], [572, 0.20220895375559342], [573, 0.040057358072215624], [574, 0.169608359633461], [575, 0.03687227455222896], [576, 0.259733243450109], [577, 0.049487176551906244], [582, 0.0631748007244217], [583, 0.8118959798097545], [584, 0.8295203073830895], [585, 0.8410804410924071], [586, 0.8674784748933173], [587, 0.16093519792466737], [588, 0.217215703573984], [589, 0.9175255062263241], ['Class', 0.0]]\n"
          ],
          "name": "stdout"
        }
      ]
    }
  ]
}