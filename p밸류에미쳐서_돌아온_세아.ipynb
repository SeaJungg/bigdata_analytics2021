{
  "nbformat": 4,
  "nbformat_minor": 0,
  "metadata": {
    "colab": {
      "name": "p밸류에미쳐서 돌아온 세아",
      "provenance": [],
      "mount_file_id": "1Fymzm3zQilFzUWpMt-BdLSNN9Q8hHjt5",
      "authorship_tag": "ABX9TyOOIB9pfpLgnDSXTgY77Edl",
      "include_colab_link": true
    },
    "kernelspec": {
      "name": "python3",
      "display_name": "Python 3"
    },
    "language_info": {
      "name": "python"
    }
  },
  "cells": [
    {
      "cell_type": "markdown",
      "metadata": {
        "id": "view-in-github",
        "colab_type": "text"
      },
      "source": [
        "<a href=\"https://colab.research.google.com/github/SeaJungg/bigdata_analytics2021/blob/master/p%EB%B0%B8%EB%A5%98%EC%97%90%EB%AF%B8%EC%B3%90%EC%84%9C_%EB%8F%8C%EC%95%84%EC%98%A8_%EC%84%B8%EC%95%84.ipynb\" target=\"_parent\"><img src=\"https://colab.research.google.com/assets/colab-badge.svg\" alt=\"Open In Colab\"/></a>"
      ]
    },
    {
      "cell_type": "code",
      "metadata": {
        "id": "4TtgLNacKVpa"
      },
      "source": [
        "import pandas as pd\n",
        "from google.colab import files "
      ],
      "execution_count": null,
      "outputs": []
    },
    {
      "cell_type": "code",
      "metadata": {
        "id": "umNSrQPKYko9"
      },
      "source": [
        "from google.colab import files \n",
        "upload_data = pd.read_csv('/content/drive/MyDrive/Colab Notebooks/secom.data', sep = ' ', header = None )\n",
        "upload_label = pd.read_csv('/content/drive/MyDrive/Colab Notebooks/secom_labels.data', sep = ' ', header = None )"
      ],
      "execution_count": null,
      "outputs": []
    },
    {
      "cell_type": "code",
      "metadata": {
        "id": "V4WvIeZrKvFM"
      },
      "source": [
        "import io"
      ],
      "execution_count": null,
      "outputs": []
    },
    {
      "cell_type": "code",
      "metadata": {
        "id": "gs_oVie0KvrN"
      },
      "source": [
        "df = pd.DataFrame(upload_data)\n",
        "label = upload_label[0]"
      ],
      "execution_count": null,
      "outputs": []
    },
    {
      "cell_type": "code",
      "metadata": {
        "colab": {
          "base_uri": "https://localhost:8080/"
        },
        "id": "ODmY2Z1kLFPd",
        "outputId": "a673359d-e1c3-4bd1-9799-929a871646ab"
      },
      "source": [
        "col_candidate = []\n",
        "#COl 기준 std가 0이면 제외하기\n",
        "for idx, val in zip(df.columns, df.describe().iloc[2]):\n",
        "  if val != 0:\n",
        "    col_candidate.append(idx)\n",
        "df = df[col_candidate]\n",
        "print(len(col_candidate))\n",
        "\n",
        "#COl 기준 데이터의 수가 55% 이상인 것만 살리기\n",
        "col_candidate = []\n",
        "for idx, val in zip(df.columns, df.describe().iloc[0]):\n",
        "  if val >= 700:\n",
        "    col_candidate.append(idx)\n",
        "df = df[col_candidate]\n",
        "print(len(col_candidate))"
      ],
      "execution_count": null,
      "outputs": [
        {
          "output_type": "stream",
          "text": [
            "474\n",
            "450\n"
          ],
          "name": "stdout"
        }
      ]
    },
    {
      "cell_type": "code",
      "metadata": {
        "colab": {
          "base_uri": "https://localhost:8080/"
        },
        "id": "eoiAVkPeZKzn",
        "outputId": "1d7c1ce2-f925-4073-b083-0090deacd46b"
      },
      "source": [
        "!pip install impyute\n",
        "\n",
        "import copy\n",
        "data_with_label = copy.deepcopy(df)\n",
        "data_with_label['Class'] = label\n",
        "\n",
        "from sklearn.impute import KNNImputer\n",
        "\n",
        "#결측치 채우기 with KNNImputer\n",
        "imputer = KNNImputer(n_neighbors=3)\n",
        "imputed = imputer.fit_transform(data_with_label)\n",
        "data_with_label_imputed = pd.DataFrame(imputed, columns=data_with_label.columns)"
      ],
      "execution_count": null,
      "outputs": [
        {
          "output_type": "stream",
          "text": [
            "Requirement already satisfied: impyute in /usr/local/lib/python3.7/dist-packages (0.0.8)\n",
            "Requirement already satisfied: scipy in /usr/local/lib/python3.7/dist-packages (from impyute) (1.4.1)\n",
            "Requirement already satisfied: numpy in /usr/local/lib/python3.7/dist-packages (from impyute) (1.19.5)\n",
            "Requirement already satisfied: scikit-learn in /usr/local/lib/python3.7/dist-packages (from impyute) (0.22.2.post1)\n",
            "Requirement already satisfied: joblib>=0.11 in /usr/local/lib/python3.7/dist-packages (from scikit-learn->impyute) (1.0.1)\n"
          ],
          "name": "stdout"
        }
      ]
    },
    {
      "cell_type": "code",
      "metadata": {
        "id": "XIkpENSDONky"
      },
      "source": [
        "#nan 남아있는지 확인\n",
        "check_for_any_nan= data_with_label_imputed .isna().values.any()\n",
        "print(\"NaN Presence:\"+str(check_for_any_nan))"
      ],
      "execution_count": null,
      "outputs": []
    },
    {
      "cell_type": "code",
      "metadata": {
        "colab": {
          "base_uri": "https://localhost:8080/"
        },
        "id": "iDJnCE_iLPVz",
        "outputId": "a2e6ed23-f28b-4bbb-88dd-41e86928c1ad"
      },
      "source": [
        "from statsmodels.formula.api import ols"
      ],
      "execution_count": null,
      "outputs": [
        {
          "output_type": "stream",
          "text": [
            "/usr/local/lib/python3.7/dist-packages/statsmodels/tools/_testing.py:19: FutureWarning: pandas.util.testing is deprecated. Use the functions in the public API at pandas.testing instead.\n",
            "  import pandas.util.testing as tm\n"
          ],
          "name": "stderr"
        }
      ]
    },
    {
      "cell_type": "code",
      "metadata": {
        "colab": {
          "base_uri": "https://localhost:8080/"
        },
        "id": "h4xYWbHTPcpT",
        "outputId": "87a04b5f-8a5f-49f6-d401-87a44a2be7d6"
      },
      "source": [
        "print(data_with_label_imputed.columns)\n",
        "#걍 시험삼아 첫번째 열에다가 회귀분석 실시.\n",
        "test_col = data_with_label_imputed[0]\n",
        "test_col = pd.concat([test_col,label],axis=1)\n",
        "test_col.columns = ['test_col','Class']\n",
        "check_for_any_nan= test_col .isna().values.any()\n",
        "print(\"NaN Presence:\"+str(check_for_any_nan))\n",
        "temp =[]\n",
        "res = ols('Class~test_col', data=test_col).fit()\n",
        "print(res.summary())"
      ],
      "execution_count": null,
      "outputs": [
        {
          "output_type": "stream",
          "text": [
            "Index([      0,       1,       2,       3,       4,       6,       7,       8,\n",
            "             9,      10,\n",
            "       ...\n",
            "           577,     582,     583,     584,     585,     586,     587,     588,\n",
            "           589, 'Class'],\n",
            "      dtype='object', length=451)\n",
            "NaN Presence:False\n",
            "                            OLS Regression Results                            \n",
            "==============================================================================\n",
            "Dep. Variable:                  Class   R-squared:                       0.001\n",
            "Model:                            OLS   Adj. R-squared:                 -0.000\n",
            "Method:                 Least Squares   F-statistic:                    0.9425\n",
            "Date:                Tue, 01 Jun 2021   Prob (F-statistic):              0.332\n",
            "Time:                        16:26:13   Log-Likelihood:                -1130.1\n",
            "No. Observations:                1567   AIC:                             2264.\n",
            "Df Residuals:                    1565   BIC:                             2275.\n",
            "Df Model:                           1                                         \n",
            "Covariance Type:            nonrobust                                         \n",
            "==============================================================================\n",
            "                 coef    std err          t      P>|t|      [0.025      0.975]\n",
            "------------------------------------------------------------------------------\n",
            "Intercept     -0.3667      0.516     -0.711      0.477      -1.378       0.645\n",
            "test_col      -0.0002      0.000     -0.971      0.332      -0.001       0.000\n",
            "==============================================================================\n",
            "Omnibus:                     1110.617   Durbin-Watson:                   1.771\n",
            "Prob(Omnibus):                  0.000   Jarque-Bera (JB):             9861.749\n",
            "Skew:                           3.481   Prob(JB):                         0.00\n",
            "Kurtosis:                      13.128   Cond. No.                     1.24e+05\n",
            "==============================================================================\n",
            "\n",
            "Warnings:\n",
            "[1] Standard Errors assume that the covariance matrix of the errors is correctly specified.\n",
            "[2] The condition number is large, 1.24e+05. This might indicate that there are\n",
            "strong multicollinearity or other numerical problems.\n"
          ],
          "name": "stdout"
        }
      ]
    },
    {
      "cell_type": "code",
      "metadata": {
        "colab": {
          "base_uri": "https://localhost:8080/"
        },
        "id": "YzXiSryHU8Q3",
        "outputId": "8c88a3b9-6770-4697-f323-671c95657278"
      },
      "source": [
        "res.tvalues"
      ],
      "execution_count": null,
      "outputs": [
        {
          "output_type": "execute_result",
          "data": {
            "text/plain": [
              "Intercept   -0.710872\n",
              "test_col    -0.970829\n",
              "dtype: float64"
            ]
          },
          "metadata": {
            "tags": []
          },
          "execution_count": 66
        }
      ]
    },
    {
      "cell_type": "code",
      "metadata": {
        "colab": {
          "base_uri": "https://localhost:8080/"
        },
        "id": "r0JBBt_kSgd5",
        "outputId": "b4a5d733-e507-4e81-fe29-d4f2213f14f8"
      },
      "source": [
        "res.pvalues[1]"
      ],
      "execution_count": null,
      "outputs": [
        {
          "output_type": "execute_result",
          "data": {
            "text/plain": [
              "0.0022796026874769572"
            ]
          },
          "metadata": {
            "tags": []
          },
          "execution_count": 89
        }
      ]
    },
    {
      "cell_type": "code",
      "metadata": {
        "colab": {
          "base_uri": "https://localhost:8080/"
        },
        "id": "eGY4GEWxT24J",
        "outputId": "ed53a573-36f4-4cb5-9e9c-6c5dbb262562"
      },
      "source": [
        "print(res.fvalue) #F-statistic\n",
        "print(res.f_pvalue) #Prob (F-statistic)"
      ],
      "execution_count": null,
      "outputs": [
        {
          "output_type": "stream",
          "text": [
            "0.9425082852447177\n",
            "0.33178362551515383\n"
          ],
          "name": "stdout"
        }
      ]
    },
    {
      "cell_type": "code",
      "metadata": {
        "id": "DlmuvN4nQwLE"
      },
      "source": [
        "tvalue = []\n",
        "fstatic = []\n",
        "f_pvalue = []\n",
        "pvalue = []"
      ],
      "execution_count": null,
      "outputs": []
    },
    {
      "cell_type": "code",
      "metadata": {
        "id": "Q6NkYG21Rt_Z"
      },
      "source": [
        "for i in data_with_label_imputed.columns.values:\n",
        "  test_col = data_with_label_imputed[i]\n",
        "  test_col = pd.concat([test_col,label],axis=1)\n",
        "  test_col.columns = ['test_col','Class']\n",
        "  res = ols('Class~test_col', data=test_col).fit()\n",
        "  pvalue.append([i,res.pvalues[1]])\n",
        "  tvalue.append([i,res.tvalues])\n",
        "  fstatic.append([i,res.fvalue])\n",
        "  f_pvalue.append([i,res.f_pvalue])"
      ],
      "execution_count": null,
      "outputs": []
    },
    {
      "cell_type": "code",
      "metadata": {
        "id": "v1ID6mc_cKk0"
      },
      "source": [
        ""
      ],
      "execution_count": null,
      "outputs": []
    },
    {
      "cell_type": "markdown",
      "metadata": {
        "id": "AyPG2yECco3r"
      },
      "source": [
        "# P value <= 0.001인 Feature만 선택 \n",
        "*** 선정된 Feature : 21 \t28  59  103  121  124  125  129  160  163  164  165  210  295  298  299  300  316  348  430  431  434  435  436  510 **"
      ]
    },
    {
      "cell_type": "code",
      "metadata": {
        "colab": {
          "base_uri": "https://localhost:8080/"
        },
        "id": "WPTM5Bt7uBJp",
        "outputId": "f8162c1b-a56b-40f4-d5ff-32c6dfbca6bc"
      },
      "source": [
        "col_names = []\n",
        "for i in pvalue:\n",
        "  if i[1] <= 0.001 :\n",
        "    col_names.append(i[0])\n",
        "print(len(col_names))"
      ],
      "execution_count": null,
      "outputs": [
        {
          "output_type": "stream",
          "text": [
            "26\n"
          ],
          "name": "stdout"
        }
      ]
    },
    {
      "cell_type": "code",
      "metadata": {
        "id": "g9eQbgWtwXAK",
        "colab": {
          "base_uri": "https://localhost:8080/",
          "height": 204
        },
        "outputId": "21f1d8a6-473d-44b8-9249-61b6728954f7"
      },
      "source": [
        "data_pval = data_with_label_imputed[col_names]\n",
        "data_pval.head()"
      ],
      "execution_count": null,
      "outputs": [
        {
          "output_type": "execute_result",
          "data": {
            "text/html": [
              "<div>\n",
              "<style scoped>\n",
              "    .dataframe tbody tr th:only-of-type {\n",
              "        vertical-align: middle;\n",
              "    }\n",
              "\n",
              "    .dataframe tbody tr th {\n",
              "        vertical-align: top;\n",
              "    }\n",
              "\n",
              "    .dataframe thead th {\n",
              "        text-align: right;\n",
              "    }\n",
              "</style>\n",
              "<table border=\"1\" class=\"dataframe\">\n",
              "  <thead>\n",
              "    <tr style=\"text-align: right;\">\n",
              "      <th></th>\n",
              "      <th>21</th>\n",
              "      <th>28</th>\n",
              "      <th>59</th>\n",
              "      <th>103</th>\n",
              "      <th>121</th>\n",
              "      <th>124</th>\n",
              "      <th>125</th>\n",
              "      <th>129</th>\n",
              "      <th>160</th>\n",
              "      <th>163</th>\n",
              "      <th>164</th>\n",
              "      <th>165</th>\n",
              "      <th>210</th>\n",
              "      <th>295</th>\n",
              "      <th>298</th>\n",
              "      <th>299</th>\n",
              "      <th>300</th>\n",
              "      <th>316</th>\n",
              "      <th>348</th>\n",
              "      <th>430</th>\n",
              "      <th>431</th>\n",
              "      <th>434</th>\n",
              "      <th>435</th>\n",
              "      <th>436</th>\n",
              "      <th>510</th>\n",
              "      <th>Class</th>\n",
              "    </tr>\n",
              "  </thead>\n",
              "  <tbody>\n",
              "    <tr>\n",
              "      <th>0</th>\n",
              "      <td>-5419.00</td>\n",
              "      <td>64.2333</td>\n",
              "      <td>-1.7264</td>\n",
              "      <td>-0.0042</td>\n",
              "      <td>15.88</td>\n",
              "      <td>15.93</td>\n",
              "      <td>0.8656</td>\n",
              "      <td>-0.0473</td>\n",
              "      <td>967.0</td>\n",
              "      <td>0.090</td>\n",
              "      <td>0.048</td>\n",
              "      <td>0.095</td>\n",
              "      <td>0.0772</td>\n",
              "      <td>398.3185</td>\n",
              "      <td>0.0373</td>\n",
              "      <td>0.0202</td>\n",
              "      <td>0.0462</td>\n",
              "      <td>6.2698</td>\n",
              "      <td>0.0215</td>\n",
              "      <td>18.7673</td>\n",
              "      <td>33.1562</td>\n",
              "      <td>10.0503</td>\n",
              "      <td>2.7073</td>\n",
              "      <td>3.1158</td>\n",
              "      <td>64.6707</td>\n",
              "      <td>-1.0</td>\n",
              "    </tr>\n",
              "    <tr>\n",
              "      <th>1</th>\n",
              "      <td>-5441.50</td>\n",
              "      <td>68.4222</td>\n",
              "      <td>0.8073</td>\n",
              "      <td>-0.0045</td>\n",
              "      <td>15.88</td>\n",
              "      <td>15.88</td>\n",
              "      <td>0.8703</td>\n",
              "      <td>-0.0946</td>\n",
              "      <td>59.0</td>\n",
              "      <td>0.112</td>\n",
              "      <td>0.115</td>\n",
              "      <td>0.124</td>\n",
              "      <td>0.0566</td>\n",
              "      <td>26.5879</td>\n",
              "      <td>0.0502</td>\n",
              "      <td>0.0561</td>\n",
              "      <td>0.0591</td>\n",
              "      <td>5.6522</td>\n",
              "      <td>0.0142</td>\n",
              "      <td>10.4383</td>\n",
              "      <td>2.2655</td>\n",
              "      <td>8.6336</td>\n",
              "      <td>5.7093</td>\n",
              "      <td>1.6779</td>\n",
              "      <td>141.4365</td>\n",
              "      <td>-1.0</td>\n",
              "    </tr>\n",
              "    <tr>\n",
              "      <th>2</th>\n",
              "      <td>-5447.75</td>\n",
              "      <td>67.1333</td>\n",
              "      <td>23.8245</td>\n",
              "      <td>-0.0026</td>\n",
              "      <td>15.90</td>\n",
              "      <td>15.95</td>\n",
              "      <td>0.8798</td>\n",
              "      <td>-0.1892</td>\n",
              "      <td>788.0</td>\n",
              "      <td>0.187</td>\n",
              "      <td>0.117</td>\n",
              "      <td>0.068</td>\n",
              "      <td>0.0339</td>\n",
              "      <td>329.6406</td>\n",
              "      <td>0.0800</td>\n",
              "      <td>0.0583</td>\n",
              "      <td>0.0326</td>\n",
              "      <td>5.7247</td>\n",
              "      <td>0.0105</td>\n",
              "      <td>10.3162</td>\n",
              "      <td>29.1663</td>\n",
              "      <td>14.2503</td>\n",
              "      <td>5.7650</td>\n",
              "      <td>0.8972</td>\n",
              "      <td>240.7767</td>\n",
              "      <td>1.0</td>\n",
              "    </tr>\n",
              "    <tr>\n",
              "      <th>3</th>\n",
              "      <td>-5468.25</td>\n",
              "      <td>62.9333</td>\n",
              "      <td>24.3791</td>\n",
              "      <td>-0.0059</td>\n",
              "      <td>15.55</td>\n",
              "      <td>15.59</td>\n",
              "      <td>1.3660</td>\n",
              "      <td>0.2838</td>\n",
              "      <td>355.0</td>\n",
              "      <td>0.068</td>\n",
              "      <td>0.108</td>\n",
              "      <td>0.100</td>\n",
              "      <td>0.1248</td>\n",
              "      <td>157.0889</td>\n",
              "      <td>0.0285</td>\n",
              "      <td>0.0445</td>\n",
              "      <td>0.0465</td>\n",
              "      <td>5.4440</td>\n",
              "      <td>0.0407</td>\n",
              "      <td>15.7089</td>\n",
              "      <td>13.4051</td>\n",
              "      <td>5.1760</td>\n",
              "      <td>5.3899</td>\n",
              "      <td>1.3671</td>\n",
              "      <td>113.5593</td>\n",
              "      <td>-1.0</td>\n",
              "    </tr>\n",
              "    <tr>\n",
              "      <th>4</th>\n",
              "      <td>-5476.25</td>\n",
              "      <td>62.8333</td>\n",
              "      <td>-12.2945</td>\n",
              "      <td>-0.0045</td>\n",
              "      <td>15.75</td>\n",
              "      <td>15.71</td>\n",
              "      <td>0.9460</td>\n",
              "      <td>-0.5677</td>\n",
              "      <td>283.0</td>\n",
              "      <td>0.147</td>\n",
              "      <td>0.040</td>\n",
              "      <td>0.113</td>\n",
              "      <td>0.0915</td>\n",
              "      <td>128.0296</td>\n",
              "      <td>0.0755</td>\n",
              "      <td>0.0181</td>\n",
              "      <td>0.0476</td>\n",
              "      <td>4.8956</td>\n",
              "      <td>0.0246</td>\n",
              "      <td>12.7642</td>\n",
              "      <td>10.7390</td>\n",
              "      <td>11.4064</td>\n",
              "      <td>2.0088</td>\n",
              "      <td>1.5533</td>\n",
              "      <td>148.0663</td>\n",
              "      <td>-1.0</td>\n",
              "    </tr>\n",
              "  </tbody>\n",
              "</table>\n",
              "</div>"
            ],
            "text/plain": [
              "        21       28       59     103  ...     435     436       510  Class\n",
              "0 -5419.00  64.2333  -1.7264 -0.0042  ...  2.7073  3.1158   64.6707   -1.0\n",
              "1 -5441.50  68.4222   0.8073 -0.0045  ...  5.7093  1.6779  141.4365   -1.0\n",
              "2 -5447.75  67.1333  23.8245 -0.0026  ...  5.7650  0.8972  240.7767    1.0\n",
              "3 -5468.25  62.9333  24.3791 -0.0059  ...  5.3899  1.3671  113.5593   -1.0\n",
              "4 -5476.25  62.8333 -12.2945 -0.0045  ...  2.0088  1.5533  148.0663   -1.0\n",
              "\n",
              "[5 rows x 26 columns]"
            ]
          },
          "metadata": {
            "tags": []
          },
          "execution_count": 24
        }
      ]
    },
    {
      "cell_type": "code",
      "metadata": {
        "colab": {
          "base_uri": "https://localhost:8080/"
        },
        "id": "fko6qQesx1Nb",
        "outputId": "9867b442-41a6-48e1-9b22-2cf67256d6da"
      },
      "source": [
        "!pip install imblearn"
      ],
      "execution_count": null,
      "outputs": [
        {
          "output_type": "stream",
          "text": [
            "Requirement already satisfied: imblearn in /usr/local/lib/python3.7/dist-packages (0.0)\n",
            "Requirement already satisfied: imbalanced-learn in /usr/local/lib/python3.7/dist-packages (from imblearn) (0.4.3)\n",
            "Requirement already satisfied: scikit-learn>=0.20 in /usr/local/lib/python3.7/dist-packages (from imbalanced-learn->imblearn) (0.22.2.post1)\n",
            "Requirement already satisfied: numpy>=1.8.2 in /usr/local/lib/python3.7/dist-packages (from imbalanced-learn->imblearn) (1.19.5)\n",
            "Requirement already satisfied: scipy>=0.13.3 in /usr/local/lib/python3.7/dist-packages (from imbalanced-learn->imblearn) (1.4.1)\n",
            "Requirement already satisfied: joblib>=0.11 in /usr/local/lib/python3.7/dist-packages (from scikit-learn>=0.20->imbalanced-learn->imblearn) (1.0.1)\n"
          ],
          "name": "stdout"
        }
      ]
    },
    {
      "cell_type": "code",
      "metadata": {
        "id": "gbeTs9fmwp44"
      },
      "source": [
        "from sklearn.model_selection import train_test_split\n",
        "X = data_pval.drop(['Class'], axis=1)\n",
        "y = data_pval['Class']\n",
        "X_train, X_test, y_train, y_test = train_test_split(X, y, test_size=0.3, stratify=y, random_state = 1)"
      ],
      "execution_count": null,
      "outputs": []
    },
    {
      "cell_type": "code",
      "metadata": {
        "colab": {
          "base_uri": "https://localhost:8080/"
        },
        "id": "VekPeIn-ZuXO",
        "outputId": "c1f02367-934c-4ad4-a877-2bb014389e32"
      },
      "source": [
        "pip install sklearn"
      ],
      "execution_count": null,
      "outputs": [
        {
          "output_type": "stream",
          "text": [
            "Requirement already satisfied: sklearn in /usr/local/lib/python3.7/dist-packages (0.0)\n",
            "Requirement already satisfied: scikit-learn in /usr/local/lib/python3.7/dist-packages (from sklearn) (0.22.2.post1)\n",
            "Requirement already satisfied: numpy>=1.11.0 in /usr/local/lib/python3.7/dist-packages (from scikit-learn->sklearn) (1.19.5)\n",
            "Requirement already satisfied: joblib>=0.11 in /usr/local/lib/python3.7/dist-packages (from scikit-learn->sklearn) (1.0.1)\n",
            "Requirement already satisfied: scipy>=0.17.0 in /usr/local/lib/python3.7/dist-packages (from scikit-learn->sklearn) (1.4.1)\n"
          ],
          "name": "stdout"
        }
      ]
    },
    {
      "cell_type": "code",
      "metadata": {
        "id": "yNN51BdUycjw",
        "colab": {
          "base_uri": "https://localhost:8080/",
          "height": 147
        },
        "outputId": "7c593cc1-4b98-4965-c2d3-f97ced1f70df"
      },
      "source": [
        "#RobustScaler : - 중앙값 = 0 / IQR(1분위(25%) ~ 3분위(75%)) = 1\n",
        "#   - 이상치(outlier) 영향 최소화\n",
        "#   - 더 넓게 분포\n",
        "# 중앙값 0 / IQR 1\n",
        "from sklearn.preprocessing import RobustScaler\n",
        "transformer = RobustScaler()\n",
        "X_train  = transformer.fit_transform(X_train)\n",
        "X_test = transformer.fit_transform(X_test)\n",
        "\n",
        "\n",
        "\n",
        "#   - 표준화 Standardization\n",
        "#StandardScaler: - 평균 = 0 / 표준편차 = 1\n",
        "#from sklearn.preprocessing import StandardScaler\n",
        "#scaler = StandardScaler()   \n",
        "#scaler = scaler.fit_transform(data)\n",
        "# 교차검증시\n",
        "#scaler.fit(X_train)\n",
        "#X_train = scaler.transform(X_train)\n",
        "#X_test = scaler.transform(X_test)\n",
        "\n",
        "\n",
        "#MinMaxScaler : - 최대값 = 1 / 최소값 = 0\n",
        "#   - 최소-최대 정규화 Min-Max Normalization\n",
        "#   - 이상치에 취약하다.\n",
        "#from sklearn.preprocessing import MinMaxScaler\n",
        "#scaler = MinMaxScaler()\n",
        "#data_pval_minmax = pd.DataFrame(data = scaler.fit_transform(data_pval.values), columns = data_pval.columns)"
      ],
      "execution_count": null,
      "outputs": [
        {
          "output_type": "error",
          "ename": "SyntaxError",
          "evalue": "ignored",
          "traceback": [
            "\u001b[0;36m  File \u001b[0;32m\"<ipython-input-46-5c9fa865ad05>\"\u001b[0;36m, line \u001b[0;32m28\u001b[0m\n\u001b[0;31m    #data_pval_minmax = pd.DataFrame(data = scaler.fit_transform(data_pval.values), columns = data_pval.columns)\u001b[0m\n\u001b[0m                                                                                                                \n^\u001b[0m\n\u001b[0;31mSyntaxError\u001b[0m\u001b[0;31m:\u001b[0m EOF while scanning triple-quoted string literal\n"
          ]
        }
      ]
    },
    {
      "cell_type": "code",
      "metadata": {
        "colab": {
          "base_uri": "https://localhost:8080/"
        },
        "id": "kaJ1ksgDzAGo",
        "outputId": "8b33acc2-3a6e-4397-cdf1-b9156f0cfc68"
      },
      "source": [
        "from imblearn.over_sampling import SMOTE\n",
        "X_resampled, y_resampled = SMOTE(random_state=0).fit_resample(X_train, y_train)"
      ],
      "execution_count": null,
      "outputs": [
        {
          "output_type": "stream",
          "text": [
            "/usr/local/lib/python3.7/dist-packages/sklearn/utils/deprecation.py:87: FutureWarning: Function safe_indexing is deprecated; safe_indexing is deprecated in version 0.22 and will be removed in version 0.24.\n",
            "  warnings.warn(msg, category=FutureWarning)\n"
          ],
          "name": "stderr"
        }
      ]
    },
    {
      "cell_type": "code",
      "metadata": {
        "colab": {
          "base_uri": "https://localhost:8080/"
        },
        "id": "P90Sym2lYA60",
        "outputId": "238e836b-feee-4efb-b302-f0560cbe1d0c"
      },
      "source": [
        "from sklearn.ensemble import RandomForestClassifier\n",
        "from sklearn.metrics import accuracy_score # 정확도 함수\n",
        "from sklearn.model_selection import cross_val_predict\n",
        "\n",
        "clf = RandomForestClassifier(max_depth = 4, min_samples_leaf = 4, min_samples_split = 4, n_estimators = 80, random_state = 0)\n",
        "clf.fit(X_resampled, y_resampled)\n",
        "\n",
        "predict_RF = clf.predict(X_test)\n",
        "print(accuracy_score(y_test,predict_RF))"
      ],
      "execution_count": null,
      "outputs": [
        {
          "output_type": "stream",
          "text": [
            "0.7664543524416136\n"
          ],
          "name": "stdout"
        }
      ]
    },
    {
      "cell_type": "code",
      "metadata": {
        "colab": {
          "base_uri": "https://localhost:8080/"
        },
        "id": "8plwzZ_6YMrE",
        "outputId": "fdfc361f-993b-452e-d4c4-a085fb0a5c0e"
      },
      "source": [
        "from sklearn.metrics import confusion_matrix, accuracy_score, precision_score, recall_score, f1_score\n",
        "confusion_matrix(y_test, predict_RF)"
      ],
      "execution_count": null,
      "outputs": [
        {
          "output_type": "execute_result",
          "data": {
            "text/plain": [
              "array([[339, 101],\n",
              "       [  9,  22]])"
            ]
          },
          "metadata": {
            "tags": []
          },
          "execution_count": 44
        }
      ]
    },
    {
      "cell_type": "code",
      "metadata": {
        "colab": {
          "base_uri": "https://localhost:8080/"
        },
        "id": "2IcActOmYNQk",
        "outputId": "0b2beace-2d67-475b-af84-740f3d6aba10"
      },
      "source": [
        "accuracy_score(y_test,predict_RF)"
      ],
      "execution_count": null,
      "outputs": [
        {
          "output_type": "execute_result",
          "data": {
            "text/plain": [
              "0.7664543524416136"
            ]
          },
          "metadata": {
            "tags": []
          },
          "execution_count": 47
        }
      ]
    },
    {
      "cell_type": "code",
      "metadata": {
        "colab": {
          "base_uri": "https://localhost:8080/"
        },
        "id": "2f2CLh1UYOns",
        "outputId": "241fe787-8e1b-4cd2-9bd3-303e106c78ef"
      },
      "source": [
        "precision_score(y_test,predict_RF)"
      ],
      "execution_count": null,
      "outputs": [
        {
          "output_type": "execute_result",
          "data": {
            "text/plain": [
              "0.17886178861788618"
            ]
          },
          "metadata": {
            "tags": []
          },
          "execution_count": 48
        }
      ]
    },
    {
      "cell_type": "code",
      "metadata": {
        "colab": {
          "base_uri": "https://localhost:8080/"
        },
        "id": "hmtk7x4vYQZC",
        "outputId": "c0c18422-ccb4-4766-904d-b9246a94ff3d"
      },
      "source": [
        "recall_score(y_test,predict_RF)"
      ],
      "execution_count": null,
      "outputs": [
        {
          "output_type": "execute_result",
          "data": {
            "text/plain": [
              "0.7096774193548387"
            ]
          },
          "metadata": {
            "tags": []
          },
          "execution_count": 49
        }
      ]
    },
    {
      "cell_type": "code",
      "metadata": {
        "colab": {
          "base_uri": "https://localhost:8080/"
        },
        "id": "ZobPZvb5YRzk",
        "outputId": "b47023cd-95e5-4d56-e855-a53e9239b12e"
      },
      "source": [
        "f1_score(y_test,predict_RF)"
      ],
      "execution_count": null,
      "outputs": [
        {
          "output_type": "execute_result",
          "data": {
            "text/plain": [
              "0.28571428571428575"
            ]
          },
          "metadata": {
            "tags": []
          },
          "execution_count": 45
        }
      ]
    }
  ]
}